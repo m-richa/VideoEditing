{
 "cells": [
  {
   "cell_type": "code",
   "execution_count": 1,
   "metadata": {},
   "outputs": [
    {
     "name": "stderr",
     "output_type": "stream",
     "text": [
      "Downloading: \"https://github.com/intel-isl/MiDaS/zipball/master\" to /media/workspace/richamishra/.cache/torch/hub/master.zip\n",
      "/media/workspace/richamishra/miniconda3/envs/champ/lib/python3.10/site-packages/tqdm/auto.py:21: TqdmWarning: IProgress not found. Please update jupyter and ipywidgets. See https://ipywidgets.readthedocs.io/en/stable/user_install.html\n",
      "  from .autonotebook import tqdm as notebook_tqdm\n"
     ]
    },
    {
     "data": {
      "text/plain": [
       "' # This docstring shows up in hub.help()\\n    MiDaS DPT_BEiT_L_384 model for monocular depth estimation\\n    pretrained (bool): load pretrained weights into model\\n    '"
      ]
     },
     "execution_count": 1,
     "metadata": {},
     "output_type": "execute_result"
    }
   ],
   "source": [
    "import torch\n",
    "\n",
    "torch.hub.help(\"intel-isl/MiDaS\", \"DPT_BEiT_L_384\", force_reload=True)  # Triggers fresh download of MiDaS repo"
   ]
  },
  {
   "cell_type": "code",
   "execution_count": 2,
   "metadata": {},
   "outputs": [
    {
     "name": "stdout",
     "output_type": "stream",
     "text": [
      "img_size [384, 512]\n"
     ]
    },
    {
     "name": "stderr",
     "output_type": "stream",
     "text": [
      "Using cache found in /media/workspace/richamishra/.cache/torch/hub/intel-isl_MiDaS_master\n",
      "/media/workspace/richamishra/miniconda3/envs/champ/lib/python3.10/site-packages/torch/functional.py:504: UserWarning: torch.meshgrid: in an upcoming release, it will be required to pass the indexing argument. (Triggered internally at ../aten/src/ATen/native/TensorShape.cpp:3483.)\n",
      "  return _VF.meshgrid(tensors, **kwargs)  # type: ignore[attr-defined]\n"
     ]
    },
    {
     "name": "stdout",
     "output_type": "stream",
     "text": [
      "Params passed to Resize transform:\n",
      "\twidth:  512\n",
      "\theight:  384\n",
      "\tresize_target:  True\n",
      "\tkeep_aspect_ratio:  True\n",
      "\tensure_multiple_of:  32\n",
      "\tresize_method:  minimal\n",
      "Using pretrained resource url::https://github.com/isl-org/ZoeDepth/releases/download/v1.0/ZoeD_M12_N.pt\n",
      "Loaded successfully\n"
     ]
    }
   ],
   "source": [
    "import torch\n",
    "\n",
    "# Zoe_N\n",
    "model_zoe_n = torch.hub.load(\".\", \"ZoeD_N\", source=\"local\", pretrained=True)"
   ]
  },
  {
   "cell_type": "code",
   "execution_count": 13,
   "metadata": {},
   "outputs": [],
   "source": [
    "##### sample prediction\n",
    "DEVICE = \"cuda\" if torch.cuda.is_available() else \"cpu\"\n",
    "zoe = model_zoe_n.to(DEVICE)\n",
    "\n",
    "\n",
    "# Local file\n",
    "from PIL import Image\n",
    "import numpy as np\n",
    "\n",
    "for i in range(1, 139):\n",
    "    image = Image.open(\"/NAS5/speech/user/richamishra/champ/data/motions/motion-01/images/{:04}.png\".format(i)).convert(\"RGB\")  # load\n",
    "    depth = zoe.infer_pil(image)  # as numpy\n",
    "    \n",
    "    from zoedepth.utils.misc import colorize\n",
    "    \n",
    "    colored = colorize(depth)\n",
    "    # save colored output\n",
    "    fpath_colored = \"/NAS5/speech/user/richamishra/champ/data/motions/motion-01/depth_zoe/{:04}.png\".format(i)\n",
    "    Image.fromarray(colored).save(fpath_colored)"
   ]
  },
  {
   "cell_type": "code",
   "execution_count": 14,
   "metadata": {},
   "outputs": [
    {
     "data": {
      "text/plain": [
       "array([[1.85979  , 1.8617114, 1.8634628, ..., 1.8720884, 1.8703368,\n",
       "        1.868693 ],\n",
       "       [1.8599987, 1.861929 , 1.8637434, ..., 1.8722501, 1.870501 ,\n",
       "        1.8688133],\n",
       "       [1.8602628, 1.8620225, 1.8638926, ..., 1.872592 , 1.8706695,\n",
       "        1.8691494],\n",
       "       ...,\n",
       "       [1.6645987, 1.6655712, 1.6667372, ..., 1.6699282, 1.6688318,\n",
       "        1.6679544],\n",
       "       [1.6641952, 1.6652346, 1.6663092, ..., 1.6695123, 1.6684442,\n",
       "        1.6676826],\n",
       "       [1.6638857, 1.6649103, 1.6661074, ..., 1.669274 , 1.6683276,\n",
       "        1.6675551]], dtype=float32)"
      ]
     },
     "execution_count": 14,
     "metadata": {},
     "output_type": "execute_result"
    }
   ],
   "source": [
    "depth_numpy\n"
   ]
  }
 ],
 "metadata": {
  "kernelspec": {
   "display_name": "champ",
   "language": "python",
   "name": "python3"
  },
  "language_info": {
   "codemirror_mode": {
    "name": "ipython",
    "version": 3
   },
   "file_extension": ".py",
   "mimetype": "text/x-python",
   "name": "python",
   "nbconvert_exporter": "python",
   "pygments_lexer": "ipython3",
   "version": "3.10.14"
  }
 },
 "nbformat": 4,
 "nbformat_minor": 2
}
